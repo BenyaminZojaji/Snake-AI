{
 "cells": [
  {
   "cell_type": "code",
   "execution_count": 1,
   "metadata": {},
   "outputs": [],
   "source": [
    "import tensorflow as tf\n",
    "from tensorflow.keras.layers import Dense\n",
    "import pandas as pd\n",
    "import numpy as np\n",
    "import matplotlib.pyplot as plt\n",
    "from sklearn.model_selection import train_test_split"
   ]
  },
  {
   "cell_type": "code",
   "execution_count": 2,
   "metadata": {},
   "outputs": [
    {
     "data": {
      "text/html": [
       "<div>\n",
       "<style scoped>\n",
       "    .dataframe tbody tr th:only-of-type {\n",
       "        vertical-align: middle;\n",
       "    }\n",
       "\n",
       "    .dataframe tbody tr th {\n",
       "        vertical-align: top;\n",
       "    }\n",
       "\n",
       "    .dataframe thead th {\n",
       "        text-align: right;\n",
       "    }\n",
       "</style>\n",
       "<table border=\"1\" class=\"dataframe\">\n",
       "  <thead>\n",
       "    <tr style=\"text-align: right;\">\n",
       "      <th></th>\n",
       "      <th>0</th>\n",
       "      <th>1</th>\n",
       "      <th>2</th>\n",
       "      <th>3</th>\n",
       "      <th>4</th>\n",
       "      <th>5</th>\n",
       "      <th>6</th>\n",
       "    </tr>\n",
       "  </thead>\n",
       "  <tbody>\n",
       "    <tr>\n",
       "      <th>0</th>\n",
       "      <td>300</td>\n",
       "      <td>300</td>\n",
       "      <td>189</td>\n",
       "      <td>381</td>\n",
       "      <td>111</td>\n",
       "      <td>-81</td>\n",
       "      <td>7</td>\n",
       "    </tr>\n",
       "    <tr>\n",
       "      <th>1</th>\n",
       "      <td>299</td>\n",
       "      <td>301</td>\n",
       "      <td>189</td>\n",
       "      <td>381</td>\n",
       "      <td>110</td>\n",
       "      <td>-80</td>\n",
       "      <td>7</td>\n",
       "    </tr>\n",
       "    <tr>\n",
       "      <th>2</th>\n",
       "      <td>298</td>\n",
       "      <td>302</td>\n",
       "      <td>189</td>\n",
       "      <td>381</td>\n",
       "      <td>109</td>\n",
       "      <td>-79</td>\n",
       "      <td>7</td>\n",
       "    </tr>\n",
       "    <tr>\n",
       "      <th>3</th>\n",
       "      <td>297</td>\n",
       "      <td>303</td>\n",
       "      <td>189</td>\n",
       "      <td>381</td>\n",
       "      <td>108</td>\n",
       "      <td>-78</td>\n",
       "      <td>7</td>\n",
       "    </tr>\n",
       "    <tr>\n",
       "      <th>4</th>\n",
       "      <td>296</td>\n",
       "      <td>304</td>\n",
       "      <td>189</td>\n",
       "      <td>381</td>\n",
       "      <td>107</td>\n",
       "      <td>-77</td>\n",
       "      <td>7</td>\n",
       "    </tr>\n",
       "  </tbody>\n",
       "</table>\n",
       "</div>"
      ],
      "text/plain": [
       "     0    1    2    3    4   5  6\n",
       "0  300  300  189  381  111 -81  7\n",
       "1  299  301  189  381  110 -80  7\n",
       "2  298  302  189  381  109 -79  7\n",
       "3  297  303  189  381  108 -78  7\n",
       "4  296  304  189  381  107 -77  7"
      ]
     },
     "execution_count": 2,
     "metadata": {},
     "output_type": "execute_result"
    }
   ],
   "source": [
    "data = pd.read_csv('data/snakeData.csv')\n",
    "data.head()"
   ]
  },
  {
   "cell_type": "code",
   "execution_count": 3,
   "metadata": {},
   "outputs": [
    {
     "data": {
      "text/plain": [
       "(7006, 7)"
      ]
     },
     "execution_count": 3,
     "metadata": {},
     "output_type": "execute_result"
    }
   ],
   "source": [
    "data.shape"
   ]
  },
  {
   "cell_type": "code",
   "execution_count": 4,
   "metadata": {},
   "outputs": [],
   "source": [
    "data = data.values\n",
    "Y = data[:, -1]\n",
    "X = data[:,:-1]"
   ]
  },
  {
   "cell_type": "code",
   "execution_count": 5,
   "metadata": {},
   "outputs": [
    {
     "data": {
      "text/plain": [
       "(7006,)"
      ]
     },
     "execution_count": 5,
     "metadata": {},
     "output_type": "execute_result"
    }
   ],
   "source": [
    "Y.shape"
   ]
  },
  {
   "cell_type": "code",
   "execution_count": 6,
   "metadata": {},
   "outputs": [
    {
     "data": {
      "text/plain": [
       "(7006, 1)"
      ]
     },
     "execution_count": 6,
     "metadata": {},
     "output_type": "execute_result"
    }
   ],
   "source": [
    "Y = Y.reshape(-1, 1)\n",
    "Y.shape"
   ]
  },
  {
   "cell_type": "code",
   "execution_count": 7,
   "metadata": {},
   "outputs": [
    {
     "data": {
      "text/plain": [
       "(7006, 6)"
      ]
     },
     "execution_count": 7,
     "metadata": {},
     "output_type": "execute_result"
    }
   ],
   "source": [
    "X.shape"
   ]
  },
  {
   "cell_type": "code",
   "execution_count": 22,
   "metadata": {},
   "outputs": [],
   "source": [
    "X_train, X_test, Y_train, Y_test = train_test_split(X, Y, test_size = 0.2, random_state=24)"
   ]
  },
  {
   "cell_type": "markdown",
   "metadata": {},
   "source": [
    "### Model"
   ]
  },
  {
   "cell_type": "code",
   "execution_count": 43,
   "metadata": {},
   "outputs": [],
   "source": [
    "model = tf.keras.models.Sequential([\n",
    "    Dense(64, input_dim=6, activation='relu'),\n",
    "    Dense(128, activation='relu'),\n",
    "    Dense(256, activation='relu'), # tanh relu sigmoid\n",
    "    Dense(512, activation='relu'),\n",
    "    Dense(8, activation='softmax') # OL sigmoid linear  softmax\n",
    "])"
   ]
  },
  {
   "cell_type": "code",
   "execution_count": 44,
   "metadata": {},
   "outputs": [],
   "source": [
    "model.compile(optimizer=tf.keras.optimizers.Adam(learning_rate=0.01),\n",
    "loss=tf.losses.sparse_categorical_crossentropy,\n",
    "metrics=['accuracy']\n",
    ")"
   ]
  },
  {
   "cell_type": "code",
   "execution_count": 45,
   "metadata": {},
   "outputs": [
    {
     "name": "stdout",
     "output_type": "stream",
     "text": [
      "Epoch 1/12\n",
      "176/176 [==============================] - 1s 2ms/step - loss: 3.3687 - accuracy: 0.8085\n",
      "Epoch 2/12\n",
      "176/176 [==============================] - 0s 2ms/step - loss: 0.3227 - accuracy: 0.9033\n",
      "Epoch 3/12\n",
      "176/176 [==============================] - 0s 2ms/step - loss: 0.3033 - accuracy: 0.9115\n",
      "Epoch 4/12\n",
      "176/176 [==============================] - 0s 2ms/step - loss: 0.2627 - accuracy: 0.9172\n",
      "Epoch 5/12\n",
      "176/176 [==============================] - 0s 2ms/step - loss: 0.2727 - accuracy: 0.9251\n",
      "Epoch 6/12\n",
      "176/176 [==============================] - 0s 2ms/step - loss: 0.3338 - accuracy: 0.9095\n",
      "Epoch 7/12\n",
      "176/176 [==============================] - 0s 2ms/step - loss: 0.2655 - accuracy: 0.9317\n",
      "Epoch 8/12\n",
      "176/176 [==============================] - 0s 2ms/step - loss: 0.3522 - accuracy: 0.9161\n",
      "Epoch 9/12\n",
      "176/176 [==============================] - 0s 2ms/step - loss: 0.1904 - accuracy: 0.9477\n",
      "Epoch 10/12\n",
      "176/176 [==============================] - 0s 2ms/step - loss: 0.1815 - accuracy: 0.9511\n",
      "Epoch 11/12\n",
      "176/176 [==============================] - 0s 2ms/step - loss: 0.1803 - accuracy: 0.9495\n",
      "Epoch 12/12\n",
      "176/176 [==============================] - 0s 2ms/step - loss: 0.1749 - accuracy: 0.9509\n"
     ]
    }
   ],
   "source": [
    "train_output = model.fit(X_train, Y_train, epochs=12)"
   ]
  },
  {
   "cell_type": "code",
   "execution_count": 46,
   "metadata": {},
   "outputs": [
    {
     "name": "stdout",
     "output_type": "stream",
     "text": [
      "44/44 [==============================] - 0s 1ms/step - loss: 0.1163 - accuracy: 0.9693\n"
     ]
    },
    {
     "data": {
      "text/plain": [
       "[0.11634448170661926, 0.9693295359611511]"
      ]
     },
     "execution_count": 46,
     "metadata": {},
     "output_type": "execute_result"
    }
   ],
   "source": [
    "model.evaluate(X_test, Y_test)"
   ]
  },
  {
   "cell_type": "code",
   "execution_count": 47,
   "metadata": {},
   "outputs": [],
   "source": [
    "model.save('model/snakeMove.h5')"
   ]
  }
 ],
 "metadata": {
  "interpreter": {
   "hash": "ac1b6ae877f939cb79c44683bcea2d95b45328eb0451b790167247c651cf00cd"
  },
  "kernelspec": {
   "display_name": "Python 3.9.10 64-bit",
   "language": "python",
   "name": "python3"
  },
  "language_info": {
   "codemirror_mode": {
    "name": "ipython",
    "version": 3
   },
   "file_extension": ".py",
   "mimetype": "text/x-python",
   "name": "python",
   "nbconvert_exporter": "python",
   "pygments_lexer": "ipython3",
   "version": "3.9.10"
  },
  "orig_nbformat": 4
 },
 "nbformat": 4,
 "nbformat_minor": 2
}
